{
 "cells": [
  {
   "cell_type": "code",
   "execution_count": 1,
   "id": "b66eee2a",
   "metadata": {},
   "outputs": [],
   "source": [
    "#imports\n",
    "from joblib import load\n",
    "import pickle\n",
    "from sklearn.ensemble import RandomForestClassifier\n",
    "from google.cloud import storage\n",
    "import pandas as pd"
   ]
  },
  {
   "cell_type": "code",
   "execution_count": 2,
   "id": "3aaa9fe4",
   "metadata": {},
   "outputs": [],
   "source": [
    "# create storage client to download data\n",
    "storage_client = storage.Client()\n",
    "public_bucket = storage_client.bucket('sba_data_uoftcloudrj')\n",
    "blob = public_bucket.blob('new_data.csv')\n",
    "blob.download_to_filename('new_data.csv')\n",
    "blob = public_bucket.blob('model.pkl')\n",
    "blob.download_to_filename('model.pkl')"
   ]
  },
  {
   "cell_type": "code",
   "execution_count": 3,
   "id": "6b16954f",
   "metadata": {},
   "outputs": [],
   "source": [
    "df = pd.read_csv('new_data.csv',index_col='LoanNr_ChkDgt')"
   ]
  },
  {
   "cell_type": "code",
   "execution_count": 4,
   "id": "2693e49e",
   "metadata": {},
   "outputs": [
    {
     "data": {
      "text/html": [
       "<div>\n",
       "<style scoped>\n",
       "    .dataframe tbody tr th:only-of-type {\n",
       "        vertical-align: middle;\n",
       "    }\n",
       "\n",
       "    .dataframe tbody tr th {\n",
       "        vertical-align: top;\n",
       "    }\n",
       "\n",
       "    .dataframe thead th {\n",
       "        text-align: right;\n",
       "    }\n",
       "</style>\n",
       "<table border=\"1\" class=\"dataframe\">\n",
       "  <thead>\n",
       "    <tr style=\"text-align: right;\">\n",
       "      <th></th>\n",
       "      <th>Zip</th>\n",
       "      <th>NAICS</th>\n",
       "      <th>ApprovalFY</th>\n",
       "      <th>Term</th>\n",
       "      <th>NoEmp</th>\n",
       "      <th>NewExist</th>\n",
       "      <th>CreateJob</th>\n",
       "      <th>RetainedJob</th>\n",
       "      <th>FranchiseCode</th>\n",
       "      <th>UrbanRural</th>\n",
       "      <th>RevLineCr</th>\n",
       "      <th>LowDoc</th>\n",
       "      <th>DisbursementGross</th>\n",
       "      <th>SBA_Appv</th>\n",
       "    </tr>\n",
       "    <tr>\n",
       "      <th>LoanNr_ChkDgt</th>\n",
       "      <th></th>\n",
       "      <th></th>\n",
       "      <th></th>\n",
       "      <th></th>\n",
       "      <th></th>\n",
       "      <th></th>\n",
       "      <th></th>\n",
       "      <th></th>\n",
       "      <th></th>\n",
       "      <th></th>\n",
       "      <th></th>\n",
       "      <th></th>\n",
       "      <th></th>\n",
       "      <th></th>\n",
       "    </tr>\n",
       "  </thead>\n",
       "  <tbody>\n",
       "    <tr>\n",
       "      <th>2086325003</th>\n",
       "      <td>67219</td>\n",
       "      <td>44</td>\n",
       "      <td>2007</td>\n",
       "      <td>84</td>\n",
       "      <td>4</td>\n",
       "      <td>1.0</td>\n",
       "      <td>0</td>\n",
       "      <td>4</td>\n",
       "      <td>0</td>\n",
       "      <td>1</td>\n",
       "      <td>0</td>\n",
       "      <td>0</td>\n",
       "      <td>15000.0</td>\n",
       "      <td>12750.0</td>\n",
       "    </tr>\n",
       "    <tr>\n",
       "      <th>1808175004</th>\n",
       "      <td>33172</td>\n",
       "      <td>53</td>\n",
       "      <td>2006</td>\n",
       "      <td>49</td>\n",
       "      <td>12</td>\n",
       "      <td>1.0</td>\n",
       "      <td>0</td>\n",
       "      <td>12</td>\n",
       "      <td>0</td>\n",
       "      <td>1</td>\n",
       "      <td>0</td>\n",
       "      <td>0</td>\n",
       "      <td>150000.0</td>\n",
       "      <td>50000.0</td>\n",
       "    </tr>\n",
       "    <tr>\n",
       "      <th>5628895009</th>\n",
       "      <td>79925</td>\n",
       "      <td>42</td>\n",
       "      <td>2013</td>\n",
       "      <td>9</td>\n",
       "      <td>4</td>\n",
       "      <td>1.0</td>\n",
       "      <td>0</td>\n",
       "      <td>4</td>\n",
       "      <td>0</td>\n",
       "      <td>1</td>\n",
       "      <td>0</td>\n",
       "      <td>0</td>\n",
       "      <td>32000.0</td>\n",
       "      <td>16000.0</td>\n",
       "    </tr>\n",
       "    <tr>\n",
       "      <th>3844064006</th>\n",
       "      <td>4090</td>\n",
       "      <td>72</td>\n",
       "      <td>2000</td>\n",
       "      <td>12</td>\n",
       "      <td>21</td>\n",
       "      <td>1.0</td>\n",
       "      <td>0</td>\n",
       "      <td>21</td>\n",
       "      <td>1</td>\n",
       "      <td>2</td>\n",
       "      <td>1</td>\n",
       "      <td>0</td>\n",
       "      <td>130000.0</td>\n",
       "      <td>50000.0</td>\n",
       "    </tr>\n",
       "    <tr>\n",
       "      <th>3405335009</th>\n",
       "      <td>5301</td>\n",
       "      <td>44</td>\n",
       "      <td>2009</td>\n",
       "      <td>60</td>\n",
       "      <td>0</td>\n",
       "      <td>2.0</td>\n",
       "      <td>6</td>\n",
       "      <td>6</td>\n",
       "      <td>0</td>\n",
       "      <td>2</td>\n",
       "      <td>0</td>\n",
       "      <td>0</td>\n",
       "      <td>41000.0</td>\n",
       "      <td>20500.0</td>\n",
       "    </tr>\n",
       "  </tbody>\n",
       "</table>\n",
       "</div>"
      ],
      "text/plain": [
       "                 Zip  NAICS  ApprovalFY  Term  NoEmp  NewExist  CreateJob  \\\n",
       "LoanNr_ChkDgt                                                               \n",
       "2086325003     67219     44        2007    84      4       1.0          0   \n",
       "1808175004     33172     53        2006    49     12       1.0          0   \n",
       "5628895009     79925     42        2013     9      4       1.0          0   \n",
       "3844064006      4090     72        2000    12     21       1.0          0   \n",
       "3405335009      5301     44        2009    60      0       2.0          6   \n",
       "\n",
       "               RetainedJob  FranchiseCode  UrbanRural  RevLineCr  LowDoc  \\\n",
       "LoanNr_ChkDgt                                                              \n",
       "2086325003               4              0           1          0       0   \n",
       "1808175004              12              0           1          0       0   \n",
       "5628895009               4              0           1          0       0   \n",
       "3844064006              21              1           2          1       0   \n",
       "3405335009               6              0           2          0       0   \n",
       "\n",
       "               DisbursementGross  SBA_Appv  \n",
       "LoanNr_ChkDgt                               \n",
       "2086325003               15000.0   12750.0  \n",
       "1808175004              150000.0   50000.0  \n",
       "5628895009               32000.0   16000.0  \n",
       "3844064006              130000.0   50000.0  \n",
       "3405335009               41000.0   20500.0  "
      ]
     },
     "execution_count": 4,
     "metadata": {},
     "output_type": "execute_result"
    }
   ],
   "source": [
    "df.head()"
   ]
  },
  {
   "cell_type": "code",
   "execution_count": 5,
   "id": "b8fcc4b5",
   "metadata": {},
   "outputs": [
    {
     "name": "stdout",
     "output_type": "stream",
     "text": [
      "[0 1 0 ... 0 0 0]\n"
     ]
    }
   ],
   "source": [
    "#load model\n",
    "model = pickle.load(open('model.pkl','rb'))\n",
    "result = model.predict(df)\n",
    "print(result)"
   ]
  },
  {
   "cell_type": "code",
   "execution_count": 6,
   "id": "d600dbdf",
   "metadata": {},
   "outputs": [],
   "source": [
    "#len(result)"
   ]
  },
  {
   "cell_type": "code",
   "execution_count": 7,
   "id": "654de22c",
   "metadata": {},
   "outputs": [],
   "source": [
    "df['prediction'] = result"
   ]
  },
  {
   "cell_type": "code",
   "execution_count": 8,
   "id": "e768832d",
   "metadata": {},
   "outputs": [],
   "source": [
    "df['prediction'] = df['prediction'].map({0:'paid in full',1:\"charged off\"})"
   ]
  },
  {
   "cell_type": "code",
   "execution_count": 9,
   "id": "ff151286",
   "metadata": {},
   "outputs": [],
   "source": [
    "df.to_csv('predicted_data.csv')"
   ]
  },
  {
   "cell_type": "code",
   "execution_count": 10,
   "id": "7e4e73d7",
   "metadata": {},
   "outputs": [],
   "source": [
    "storage_client = storage.Client()\n",
    "bucket = storage_client.bucket('sba_data_uoftcloudrj')\n",
    "blob = bucket.blob('predicted_data.csv')\n",
    "blob.upload_from_filename('predicted_data.csv')"
   ]
  },
  {
   "cell_type": "code",
   "execution_count": null,
   "id": "81358192",
   "metadata": {},
   "outputs": [],
   "source": []
  }
 ],
 "metadata": {
  "environment": {
   "name": "common-cu100.m65",
   "type": "gcloud",
   "uri": "gcr.io/deeplearning-platform-release/base-cu100:m65"
  },
  "kernelspec": {
   "display_name": "Python 3",
   "language": "python",
   "name": "python3"
  },
  "language_info": {
   "codemirror_mode": {
    "name": "ipython",
    "version": 3
   },
   "file_extension": ".py",
   "mimetype": "text/x-python",
   "name": "python",
   "nbconvert_exporter": "python",
   "pygments_lexer": "ipython3",
   "version": "3.7.10"
  }
 },
 "nbformat": 4,
 "nbformat_minor": 5
}
