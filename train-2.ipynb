{
 "cells": [
  {
   "cell_type": "code",
   "execution_count": 1,
   "id": "316b1c37",
   "metadata": {},
   "outputs": [],
   "source": [
    "# imports\n",
    "import pandas as pd\n",
    "import numpy as np\n",
    "from google.cloud import storage\n",
    "from sklearn.ensemble import RandomForestClassifier\n",
    "from sklearn.model_selection import train_test_split\n",
    "import joblib\n",
    "from sklearn.metrics import accuracy_score\n",
    "import pickle"
   ]
  },
  {
   "cell_type": "code",
   "execution_count": 2,
   "id": "4cb159e5",
   "metadata": {},
   "outputs": [],
   "source": [
    "# create storage client to download data\n",
    "storage_client = storage.Client()\n",
    "public_bucket = storage_client.bucket('sba_data_uoftcloudrj')\n",
    "blob = public_bucket.blob('training_data.csv')\n",
    "blob.download_to_filename('training_data.csv')"
   ]
  },
  {
   "cell_type": "code",
   "execution_count": 3,
   "id": "46f45001",
   "metadata": {},
   "outputs": [],
   "source": [
    "df = pd.read_csv('training_data.csv')"
   ]
  },
  {
   "cell_type": "code",
   "execution_count": 4,
   "id": "86facc04",
   "metadata": {},
   "outputs": [
    {
     "data": {
      "text/html": [
       "<div>\n",
       "<style scoped>\n",
       "    .dataframe tbody tr th:only-of-type {\n",
       "        vertical-align: middle;\n",
       "    }\n",
       "\n",
       "    .dataframe tbody tr th {\n",
       "        vertical-align: top;\n",
       "    }\n",
       "\n",
       "    .dataframe thead th {\n",
       "        text-align: right;\n",
       "    }\n",
       "</style>\n",
       "<table border=\"1\" class=\"dataframe\">\n",
       "  <thead>\n",
       "    <tr style=\"text-align: right;\">\n",
       "      <th></th>\n",
       "      <th>LoanNr_ChkDgt</th>\n",
       "      <th>Zip</th>\n",
       "      <th>NAICS</th>\n",
       "      <th>ApprovalFY</th>\n",
       "      <th>Term</th>\n",
       "      <th>NoEmp</th>\n",
       "      <th>NewExist</th>\n",
       "      <th>CreateJob</th>\n",
       "      <th>RetainedJob</th>\n",
       "      <th>FranchiseCode</th>\n",
       "      <th>UrbanRural</th>\n",
       "      <th>RevLineCr</th>\n",
       "      <th>LowDoc</th>\n",
       "      <th>DisbursementGross</th>\n",
       "      <th>MIS_Status</th>\n",
       "      <th>SBA_Appv</th>\n",
       "    </tr>\n",
       "  </thead>\n",
       "  <tbody>\n",
       "    <tr>\n",
       "      <th>0</th>\n",
       "      <td>2216105006</td>\n",
       "      <td>39530</td>\n",
       "      <td>45</td>\n",
       "      <td>2007</td>\n",
       "      <td>84</td>\n",
       "      <td>2</td>\n",
       "      <td>1.0</td>\n",
       "      <td>2</td>\n",
       "      <td>4</td>\n",
       "      <td>0</td>\n",
       "      <td>1</td>\n",
       "      <td>0</td>\n",
       "      <td>0</td>\n",
       "      <td>25000.0</td>\n",
       "      <td>0</td>\n",
       "      <td>21250.0</td>\n",
       "    </tr>\n",
       "    <tr>\n",
       "      <th>1</th>\n",
       "      <td>3101536007</td>\n",
       "      <td>33176</td>\n",
       "      <td>62</td>\n",
       "      <td>2008</td>\n",
       "      <td>84</td>\n",
       "      <td>10</td>\n",
       "      <td>1.0</td>\n",
       "      <td>1</td>\n",
       "      <td>10</td>\n",
       "      <td>1</td>\n",
       "      <td>1</td>\n",
       "      <td>1</td>\n",
       "      <td>0</td>\n",
       "      <td>51605.0</td>\n",
       "      <td>0</td>\n",
       "      <td>15000.0</td>\n",
       "    </tr>\n",
       "    <tr>\n",
       "      <th>2</th>\n",
       "      <td>1815165010</td>\n",
       "      <td>97045</td>\n",
       "      <td>45</td>\n",
       "      <td>2006</td>\n",
       "      <td>84</td>\n",
       "      <td>2</td>\n",
       "      <td>2.0</td>\n",
       "      <td>2</td>\n",
       "      <td>4</td>\n",
       "      <td>0</td>\n",
       "      <td>1</td>\n",
       "      <td>1</td>\n",
       "      <td>0</td>\n",
       "      <td>32000.0</td>\n",
       "      <td>0</td>\n",
       "      <td>16000.0</td>\n",
       "    </tr>\n",
       "    <tr>\n",
       "      <th>3</th>\n",
       "      <td>3078164001</td>\n",
       "      <td>11764</td>\n",
       "      <td>81</td>\n",
       "      <td>1999</td>\n",
       "      <td>48</td>\n",
       "      <td>3</td>\n",
       "      <td>1.0</td>\n",
       "      <td>3</td>\n",
       "      <td>3</td>\n",
       "      <td>1</td>\n",
       "      <td>1</td>\n",
       "      <td>1</td>\n",
       "      <td>0</td>\n",
       "      <td>99769.0</td>\n",
       "      <td>0</td>\n",
       "      <td>25000.0</td>\n",
       "    </tr>\n",
       "    <tr>\n",
       "      <th>4</th>\n",
       "      <td>3320723006</td>\n",
       "      <td>90019</td>\n",
       "      <td>81</td>\n",
       "      <td>1989</td>\n",
       "      <td>221</td>\n",
       "      <td>6</td>\n",
       "      <td>1.0</td>\n",
       "      <td>0</td>\n",
       "      <td>0</td>\n",
       "      <td>0</td>\n",
       "      <td>0</td>\n",
       "      <td>0</td>\n",
       "      <td>0</td>\n",
       "      <td>550000.0</td>\n",
       "      <td>0</td>\n",
       "      <td>467500.0</td>\n",
       "    </tr>\n",
       "  </tbody>\n",
       "</table>\n",
       "</div>"
      ],
      "text/plain": [
       "   LoanNr_ChkDgt    Zip  NAICS  ApprovalFY  Term  NoEmp  NewExist  CreateJob  \\\n",
       "0     2216105006  39530     45        2007    84      2       1.0          2   \n",
       "1     3101536007  33176     62        2008    84     10       1.0          1   \n",
       "2     1815165010  97045     45        2006    84      2       2.0          2   \n",
       "3     3078164001  11764     81        1999    48      3       1.0          3   \n",
       "4     3320723006  90019     81        1989   221      6       1.0          0   \n",
       "\n",
       "   RetainedJob  FranchiseCode  UrbanRural  RevLineCr  LowDoc  \\\n",
       "0            4              0           1          0       0   \n",
       "1           10              1           1          1       0   \n",
       "2            4              0           1          1       0   \n",
       "3            3              1           1          1       0   \n",
       "4            0              0           0          0       0   \n",
       "\n",
       "   DisbursementGross  MIS_Status  SBA_Appv  \n",
       "0            25000.0           0   21250.0  \n",
       "1            51605.0           0   15000.0  \n",
       "2            32000.0           0   16000.0  \n",
       "3            99769.0           0   25000.0  \n",
       "4           550000.0           0  467500.0  "
      ]
     },
     "execution_count": 4,
     "metadata": {},
     "output_type": "execute_result"
    }
   ],
   "source": [
    "df.head()"
   ]
  },
  {
   "cell_type": "code",
   "execution_count": 5,
   "id": "c9219460",
   "metadata": {},
   "outputs": [],
   "source": [
    "df.set_index('LoanNr_ChkDgt', inplace=True)"
   ]
  },
  {
   "cell_type": "code",
   "execution_count": 6,
   "id": "03299415",
   "metadata": {},
   "outputs": [],
   "source": [
    "X = df[['Zip','NAICS','ApprovalFY','Term','NoEmp','NewExist','CreateJob','RetainedJob','FranchiseCode','UrbanRural','RevLineCr','LowDoc','DisbursementGross','SBA_Appv']]\n",
    "y = df['MIS_Status']"
   ]
  },
  {
   "cell_type": "code",
   "execution_count": 7,
   "id": "5fc384d3",
   "metadata": {},
   "outputs": [],
   "source": [
    "X_train, X_test, y_train, y_test = train_test_split(X, y, test_size=0.25, random_state=42)"
   ]
  },
  {
   "cell_type": "code",
   "execution_count": 8,
   "id": "13941776",
   "metadata": {},
   "outputs": [],
   "source": [
    "rf = RandomForestClassifier(random_state=42, max_depth=10)\n",
    "rf.fit(X_train, y_train)\n",
    "pred = rf.predict(X_test)"
   ]
  },
  {
   "cell_type": "code",
   "execution_count": 9,
   "id": "dd7e1f5d",
   "metadata": {},
   "outputs": [
    {
     "data": {
      "text/plain": [
       "0.9212106537530267"
      ]
     },
     "execution_count": 9,
     "metadata": {},
     "output_type": "execute_result"
    }
   ],
   "source": [
    "accuracy_score(y_test, pred)"
   ]
  },
  {
   "cell_type": "code",
   "execution_count": null,
   "id": "a03aef9a",
   "metadata": {},
   "outputs": [],
   "source": []
  },
  {
   "cell_type": "code",
   "execution_count": 11,
   "id": "64980729",
   "metadata": {},
   "outputs": [],
   "source": [
    "pickle.dump(rf, open('model.pkl','wb'))"
   ]
  },
  {
   "cell_type": "code",
   "execution_count": 12,
   "id": "a1cb18a8",
   "metadata": {},
   "outputs": [],
   "source": [
    "storage_client = storage.Client()\n",
    "bucket = storage_client.bucket('sba_data_uoftcloudrj')\n",
    "blob = bucket.blob('model.pkl')\n",
    "blob.upload_from_filename('model.pkl')"
   ]
  },
  {
   "cell_type": "code",
   "execution_count": null,
   "id": "77cdedf7",
   "metadata": {},
   "outputs": [],
   "source": []
  }
 ],
 "metadata": {
  "environment": {
   "name": "common-cu100.m65",
   "type": "gcloud",
   "uri": "gcr.io/deeplearning-platform-release/base-cu100:m65"
  },
  "kernelspec": {
   "display_name": "Python 3",
   "language": "python",
   "name": "python3"
  },
  "language_info": {
   "codemirror_mode": {
    "name": "ipython",
    "version": 3
   },
   "file_extension": ".py",
   "mimetype": "text/x-python",
   "name": "python",
   "nbconvert_exporter": "python",
   "pygments_lexer": "ipython3",
   "version": "3.7.10"
  }
 },
 "nbformat": 4,
 "nbformat_minor": 5
}
